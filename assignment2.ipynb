{
 "cells": [
  {
   "cell_type": "markdown",
   "metadata": {},
   "source": [
    "# ASSIGNMENT 2"
   ]
  },
  {
   "cell_type": "raw",
   "metadata": {},
   "source": [
    "# TASK 1"
   ]
  },
  {
   "cell_type": "code",
   "execution_count": 45,
   "metadata": {},
   "outputs": [
    {
     "name": "stdout",
     "output_type": "stream",
     "text": [
      "10\n"
     ]
    }
   ],
   "source": [
    "'''1.1\n",
    "Write a Python Program to implement your own myreduce() function which works exactly like\n",
    "Python's built-in function reduce()\n",
    "'''\n",
    "def myreduce(func,x):\n",
    "    for i in range(0,len(x)-1):\n",
    "        x[i+1]=func(x[i],x[i+1])\n",
    "    return x[i+1]\n",
    "max_find= lambda a,b:a if(a>b) else b\n",
    "l=[4,5,6,10,4,5,6]\n",
    "p=myreduce(max_find,l)\n",
    "print(p)"
   ]
  },
  {
   "cell_type": "code",
   "execution_count": 46,
   "metadata": {},
   "outputs": [
    {
     "name": "stdout",
     "output_type": "stream",
     "text": [
      "[2, 4, 6, 8]\n"
     ]
    }
   ],
   "source": [
    "'''1.2\n",
    "Write a Python program to implement your own myfilter() function which works exactly like\n",
    "Python's built-in function filter()\n",
    "'''\n",
    "def myfilter(func,l):\n",
    "    for i in l:\n",
    "        if(func(i)==True):\n",
    "            yield i\n",
    "def even_check(num):\n",
    "    if num%2 ==0:\n",
    "        return True\n",
    "lst =[1,2,3,4,5,6,7,8]\n",
    "z=list(myfilter(even_check,lst))\n",
    "print(z)"
   ]
  },
  {
   "cell_type": "code",
   "execution_count": 47,
   "metadata": {},
   "outputs": [
    {
     "name": "stdout",
     "output_type": "stream",
     "text": [
      "['A', 'C', 'A', 'D', 'G', 'I', 'L', 'D']\n",
      "['x', 'xx', 'xxx', 'xxxx', 'y', 'yy', 'yyy', 'yyyy', 'z', 'zz', 'zzz', 'zzzz']\n",
      "['x', 'y', 'z', 'xx', 'yy', 'zz', 'xxx', 'yyy', 'zzz', 'xxxx', 'yyyy', 'zzzz']\n",
      "[[2], [3], [4], [3], [4], [5], [4], [5], [6]]\n",
      "[[2, 3, 4, 5], [3, 4, 5, 6], [4, 5, 6, 7], [5, 6, 7, 8]]\n",
      "[(1, 1), (2, 1), (3, 1), (1, 2), (2, 2), (3, 2), (1, 3), (2, 3), (3, 3)]\n"
     ]
    }
   ],
   "source": [
    "'''2.\n",
    "Implement List comprehensions to produce the following lists.\n",
    "Write List comprehensions to produce the following Lists\n",
    "['A', 'C', 'A', 'D', 'G', 'I', ’L’, ‘ D’]\n",
    "['x', 'xx', 'xxx', 'xxxx', 'y', 'yy', 'yyy', 'yyyy', 'z', 'zz', 'zzz', 'zzzz']\n",
    "['x', 'y', 'z', 'xx', 'yy', 'zz', 'xx', 'yy', 'zz', 'xxxx', 'yyyy', 'zzzz']\n",
    "[[2], [3], [4], [3], [4], [5], [4], [5], [6]]\n",
    "[[2, 3, 4, 5], [3, 4, 5, 6], [4, 5, 6, 7], [5, 6, 7, 8]]\n",
    "[(1, 1), (2, 1), (3, 1), (1, 2), (2, 2), (3, 2), (1, 3), (2, 3), (3, 3)]\n",
    "'''\n",
    "list1=['A','C','A','D','G','I','L','D']\n",
    "list2=[i*j for i in 'xyz' for j in range(1,5)]\n",
    "list3=[j*i for i in range(1,5) for j in 'xyz']\n",
    "list4=[[i+j] for i in range(2,5) for j in range(0,3)]\n",
    "list5=[[i+j for j in range(0,4)] for i in range(2,6) ]\n",
    "list6=[(j,i) for i in range(1,4) for j in range(1,4)]\n",
    "print(list1)\n",
    "print(list2)\n",
    "print(list3)\n",
    "print(list4)\n",
    "print(list5)\n",
    "print(list6)"
   ]
  },
  {
   "cell_type": "code",
   "execution_count": 48,
   "metadata": {},
   "outputs": [
    {
     "data": {
      "text/plain": [
       "'doughnut'"
      ]
     },
     "execution_count": 48,
     "metadata": {},
     "output_type": "execute_result"
    }
   ],
   "source": [
    "'''3.\n",
    "Implement a function longestWord() that takes a list of words and returns the longest one.'''\n",
    "def longestWord(l):\n",
    "    for i in range(0,len(l)-1):\n",
    "        if(len(l[i])>len(l[i+1])):\n",
    "            l[i+1]=l[i]\n",
    "    return l[i+1]\n",
    "mylist=[\"apple\",\"banana\",\"citrus\",\"doughnut\",\"egg\"]\n",
    "longestWord(mylist)"
   ]
  },
  {
   "cell_type": "code",
   "execution_count": 49,
   "metadata": {},
   "outputs": [
    {
     "name": "stdout",
     "output_type": "stream",
     "text": [
      " Area of triangle is: 9.921567\n"
     ]
    }
   ],
   "source": [
    "'''Write a Python Program(with class concepts) to find the area of the triangle using the below\n",
    "formula.\n",
    "area = (s*(s-a)*(s-b)*(s-c)) ** 0.5\n",
    "Function to take the length of the sides of triangle from user should be defined in the parent\n",
    "class and function to calculate the area should be defined in subclass.\n",
    "'''\n",
    "class triangle:\n",
    "    def __init__(self,a,b,c):\n",
    "        self.a=a\n",
    "        self.b=b\n",
    "        self.c=c\n",
    "class trianglearea(triangle):\n",
    "    def __init__(self,*args):\n",
    "        super(trianglearea,self).__init__(*args)\n",
    "        self.s=(self.a+self.b+self.c)/2\n",
    "    def __str__(self):\n",
    "        return \" Area of triangle is: %f\" % (self.s*(self.s-self.a)*(self.s-self.b)*(self.s-self.c)) ** 0.5\n",
    "print(trianglearea(4,5,6))"
   ]
  },
  {
   "cell_type": "code",
   "execution_count": 50,
   "metadata": {},
   "outputs": [
    {
     "data": {
      "text/plain": [
       "['banana', 'citrus', 'doughnut']"
      ]
     },
     "execution_count": 50,
     "metadata": {},
     "output_type": "execute_result"
    }
   ],
   "source": [
    "'''1.2\n",
    "Write a function filter_long_words() that takes a list of words and an integer n and returns the list\n",
    "of words that are longer than n.'''\n",
    "def filter_long_words(wordlist,n):\n",
    "    l=[]\n",
    "    for i in wordlist:\n",
    "        if(len(i)>n):\n",
    "            l.append(i)\n",
    "    return l\n",
    "mylist=[\"apple\",\"banana\",\"citrus\",\"doughnut\",\"egg\"]\n",
    "filter_long_words(mylist,5)"
   ]
  },
  {
   "cell_type": "code",
   "execution_count": 38,
   "metadata": {},
   "outputs": [
    {
     "name": "stdout",
     "output_type": "stream",
     "text": [
      "[5, 6, 6, 8, 3]\n"
     ]
    }
   ],
   "source": [
    "'''2.1\n",
    "Write a Python program using function concept that maps list of words into a list of integers\n",
    "representing the lengths of the corresponding words.\n",
    "'''\n",
    "def length(l):\n",
    "    lengths=[]\n",
    "    for i in l:\n",
    "        lengths.append(len(i))\n",
    "    return lengths\n",
    "mylist=[\"apple\",\"banana\",\"citrus\",\"doughnut\",\"egg\"]\n",
    "lengths=length(mylist)\n",
    "print(lengths)"
   ]
  },
  {
   "cell_type": "code",
   "execution_count": 51,
   "metadata": {},
   "outputs": [
    {
     "name": "stdout",
     "output_type": "stream",
     "text": [
      "False\n"
     ]
    }
   ],
   "source": [
    "'''2.2\n",
    "Write a Python function which takes a character (i.e. a string of length 1) and returns True if it is\n",
    "a vowel, False otherwise.'''\n",
    "def is_vowel(c):\n",
    "    if(c=='a'or c=='e' or c=='i' or c=='o' or c=='u'):\n",
    "        return True\n",
    "    else:\n",
    "        return False\n",
    "print(is_vowel('g'))"
   ]
  },
  {
   "cell_type": "code",
   "execution_count": null,
   "metadata": {},
   "outputs": [],
   "source": []
  }
 ],
 "metadata": {
  "kernelspec": {
   "display_name": "Python 3",
   "language": "python",
   "name": "python3"
  },
  "language_info": {
   "codemirror_mode": {
    "name": "ipython",
    "version": 3
   },
   "file_extension": ".py",
   "mimetype": "text/x-python",
   "name": "python",
   "nbconvert_exporter": "python",
   "pygments_lexer": "ipython3",
   "version": "3.7.6"
  }
 },
 "nbformat": 4,
 "nbformat_minor": 4
}
